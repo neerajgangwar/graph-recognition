{
 "cells": [
  {
   "cell_type": "code",
   "execution_count": 1,
   "id": "47f6780a",
   "metadata": {},
   "outputs": [],
   "source": [
    "# Offline version of classification will not know the order of stroke points when classifying\n",
    "# Learn from MNIST database to identify strokes instead of determining with geometry-based features\n",
    "# Because there is no distinction between self-loops and vertices, we can ignore this entirely\n",
    "\n",
    "# The primary distinguishing factor between vertices and self-loops is their size\n",
    "# MNIST dataset does not distinguish between the size of 0's, so it must be handled manually afterward\n",
    "\n",
    "# Treat all 0 as true label of a vertex or loop\n",
    "# Treat all 1 as true label of a line\n",
    "# Treat all 7, 2 as true label of an arrow\n",
    "# Ignore all other inputs\n",
    "\n",
    "# Ignore all other labels\n",
    "# Base network architecture referenced from https://arxiv.org/abs/2008.10400v2\n",
    "# Rather than implementing the voting scheme, we just take one CNN and train it"
   ]
  },
  {
   "cell_type": "code",
   "execution_count": 3,
   "id": "15c1edae",
   "metadata": {},
   "outputs": [],
   "source": [
    "import tensorflow as tf\n",
    "import numpy as np\n",
    "import keras\n",
    "from tensorflow import image\n",
    "from tensorflow.keras import layers\n",
    "from tensorflow.keras import optimizers\n",
    "from sklearn.metrics import accuracy_score"
   ]
  },
  {
   "cell_type": "code",
   "execution_count": 4,
   "id": "0b58845e",
   "metadata": {},
   "outputs": [],
   "source": [
    "from tensorflow.keras.datasets import mnist\n",
    "\n",
    "(x_train, y_train), (x_test, y_test) = mnist.load_data()\n",
    "\n",
    "x_train, x_test = x_train.astype(\"float32\") / 255, x_test.astype(\"float32\") / 255\n",
    "\n",
    "# Remove all digits [3:6] and [8:9]\n",
    "\n",
    "indices_train = np.sort(np.append(np.nonzero(y_train < 3), np.nonzero(y_train == 7)))\n",
    "indices_test = np.sort(np.append(np.nonzero(y_test < 3), np.nonzero(y_test == 7)))\n",
    "\n",
    "x_train = x_train[indices_train]\n",
    "x_test = x_test[indices_test]\n",
    "y_train = y_train[indices_train]\n",
    "y_test = y_test[indices_test]\n",
    "\n",
    "y_train[y_train == 7] = 2\n",
    "y_test[y_test == 7] = 2\n"
   ]
  },
  {
   "cell_type": "code",
   "execution_count": 5,
   "id": "ba564152",
   "metadata": {},
   "outputs": [
    {
     "name": "stdout",
     "output_type": "stream",
     "text": [
      "(24888, 28, 28, 1)\n"
     ]
    }
   ],
   "source": [
    "y_train=tf.keras.utils.to_categorical(y_train,3)\n",
    "y_test=tf.keras.utils.to_categorical(y_test,3)\n",
    "x_train=np.expand_dims(x_train,axis=-1)\n",
    "x_test=np.expand_dims(x_test,axis=-1)\n",
    "\n",
    "print(x_train.shape)\n"
   ]
  },
  {
   "cell_type": "code",
   "execution_count": 6,
   "id": "293b5741",
   "metadata": {},
   "outputs": [
    {
     "name": "stdout",
     "output_type": "stream",
     "text": [
      "Model: \"sequential\"\n",
      "_________________________________________________________________\n",
      " Layer (type)                Output Shape              Param #   \n",
      "=================================================================\n",
      " random_rotation (RandomRota  (None, 28, 28, 1)        0         \n",
      " tion)                                                           \n",
      "                                                                 \n",
      " conv2d (Conv2D)             (None, 24, 24, 64)        1664      \n",
      "                                                                 \n",
      " batch_normalization (BatchN  (None, 24, 24, 64)       256       \n",
      " ormalization)                                                   \n",
      "                                                                 \n",
      " max_pooling2d (MaxPooling2D  (None, 12, 12, 64)       0         \n",
      " )                                                               \n",
      "                                                                 \n",
      " conv2d_1 (Conv2D)           (None, 8, 8, 128)         204928    \n",
      "                                                                 \n",
      " batch_normalization_1 (Batc  (None, 8, 8, 128)        512       \n",
      " hNormalization)                                                 \n",
      "                                                                 \n",
      " max_pooling2d_1 (MaxPooling  (None, 4, 4, 128)        0         \n",
      " 2D)                                                             \n",
      "                                                                 \n",
      " flatten (Flatten)           (None, 2048)              0         \n",
      "                                                                 \n",
      " dense (Dense)               (None, 3)                 6147      \n",
      "                                                                 \n",
      "=================================================================\n",
      "Total params: 213,507\n",
      "Trainable params: 213,123\n",
      "Non-trainable params: 384\n",
      "_________________________________________________________________\n"
     ]
    }
   ],
   "source": [
    "model = keras.Sequential(\n",
    "    [\n",
    "        keras.Input(shape=(28,28,1)),\n",
    "        layers.RandomRotation((1,1)),\n",
    "        layers.Conv2D(64, kernel_size=(5, 5), activation=\"relu\"),\n",
    "        layers.BatchNormalization(),\n",
    "        layers.MaxPooling2D(pool_size=(2, 2)),\n",
    "        layers.Conv2D(128, kernel_size=(5, 5), activation=\"relu\"),\n",
    "        layers.BatchNormalization(),\n",
    "        layers.MaxPooling2D(pool_size=(2, 2)),\n",
    "        layers.Flatten(),\n",
    "        layers.Dense(3, activation=\"softmax\"),\n",
    "    ]\n",
    ")\n",
    "\n",
    "model.summary()"
   ]
  },
  {
   "cell_type": "code",
   "execution_count": 7,
   "id": "a3290e01",
   "metadata": {},
   "outputs": [
    {
     "name": "stdout",
     "output_type": "stream",
     "text": [
      "Epoch 1/15\n",
      "187/187 [==============================] - 23s 119ms/step - loss: 0.0533 - accuracy: 0.9836 - val_loss: 2.3323 - val_accuracy: 0.3331\n",
      "Epoch 2/15\n",
      "187/187 [==============================] - 22s 117ms/step - loss: 0.0118 - accuracy: 0.9966 - val_loss: 0.6992 - val_accuracy: 0.6565\n",
      "Epoch 3/15\n",
      "187/187 [==============================] - 21s 111ms/step - loss: 0.0083 - accuracy: 0.9971 - val_loss: 0.0167 - val_accuracy: 0.9960\n",
      "Epoch 4/15\n",
      "187/187 [==============================] - 22s 115ms/step - loss: 0.0048 - accuracy: 0.9985 - val_loss: 0.0103 - val_accuracy: 0.9964\n",
      "Epoch 5/15\n",
      "187/187 [==============================] - 23s 121ms/step - loss: 0.0023 - accuracy: 0.9992 - val_loss: 0.0068 - val_accuracy: 0.9976\n",
      "Epoch 6/15\n",
      "187/187 [==============================] - 21s 114ms/step - loss: 0.0043 - accuracy: 0.9985 - val_loss: 0.0134 - val_accuracy: 0.9964\n",
      "Epoch 7/15\n",
      "187/187 [==============================] - 22s 115ms/step - loss: 0.0040 - accuracy: 0.9986 - val_loss: 0.0153 - val_accuracy: 0.9972\n",
      "Epoch 8/15\n",
      "187/187 [==============================] - 22s 117ms/step - loss: 0.0046 - accuracy: 0.9985 - val_loss: 0.0141 - val_accuracy: 0.9976\n",
      "Epoch 9/15\n",
      "187/187 [==============================] - 22s 117ms/step - loss: 0.0057 - accuracy: 0.9984 - val_loss: 0.0088 - val_accuracy: 0.9976\n",
      "Epoch 10/15\n",
      "187/187 [==============================] - 21s 113ms/step - loss: 0.0024 - accuracy: 0.9989 - val_loss: 0.0129 - val_accuracy: 0.9960\n",
      "Epoch 11/15\n",
      "187/187 [==============================] - 23s 124ms/step - loss: 0.0028 - accuracy: 0.9991 - val_loss: 0.0099 - val_accuracy: 0.9980\n",
      "Epoch 12/15\n",
      "187/187 [==============================] - 22s 120ms/step - loss: 0.0017 - accuracy: 0.9994 - val_loss: 0.0103 - val_accuracy: 0.9980\n",
      "Epoch 13/15\n",
      "187/187 [==============================] - 23s 124ms/step - loss: 5.9652e-04 - accuracy: 0.9998 - val_loss: 0.0081 - val_accuracy: 0.9976\n",
      "Epoch 14/15\n",
      "187/187 [==============================] - 23s 126ms/step - loss: 0.0037 - accuracy: 0.9989 - val_loss: 0.0188 - val_accuracy: 0.9972\n",
      "Epoch 15/15\n",
      "187/187 [==============================] - 23s 122ms/step - loss: 0.0026 - accuracy: 0.9995 - val_loss: 0.0111 - val_accuracy: 0.9988\n"
     ]
    },
    {
     "data": {
      "text/plain": [
       "<keras.callbacks.History at 0x27105dee490>"
      ]
     },
     "execution_count": 7,
     "metadata": {},
     "output_type": "execute_result"
    }
   ],
   "source": [
    "batch_size = 120\n",
    "epochs = 15\n",
    "\n",
    "model.compile(loss=\"categorical_crossentropy\", optimizer=\"adam\", metrics=[\"accuracy\"])\n",
    "\n",
    "model.fit(x_train, y_train, batch_size=batch_size, epochs=epochs, validation_split=0.1)"
   ]
  },
  {
   "cell_type": "code",
   "execution_count": 8,
   "id": "dd3a7f23",
   "metadata": {},
   "outputs": [
    {
     "name": "stdout",
     "output_type": "stream",
     "text": [
      "Test loss: 0.00714707700535655\n",
      "Test accuracy: 0.9980838298797607\n"
     ]
    }
   ],
   "source": [
    "score = model.evaluate(x_test, y_test, verbose=0)\n",
    "print(\"Test loss:\", score[0])\n",
    "print(\"Test accuracy:\", score[1])"
   ]
  },
  {
   "cell_type": "code",
   "execution_count": 9,
   "id": "5be5f8f5",
   "metadata": {},
   "outputs": [],
   "source": [
    "from ipywidgets import Image\n",
    "from ipywidgets import ColorPicker, IntSlider, link, AppLayout, HBox\n",
    "from ipycanvas import RoughCanvas, Canvas, hold_canvas\n",
    "\n",
    "import numpy as np"
   ]
  },
  {
   "cell_type": "code",
   "execution_count": 10,
   "id": "c404ddc9",
   "metadata": {},
   "outputs": [],
   "source": [
    "width = 100\n",
    "height = 100"
   ]
  },
  {
   "cell_type": "code",
   "execution_count": 11,
   "id": "24f3f332",
   "metadata": {},
   "outputs": [],
   "source": [
    "#Set up canvas\n",
    "canvas = Canvas(width=width, height=height, sync_image_data=True)\n",
    "\n",
    "drawing = False\n",
    "position = None\n",
    "points = np.zeros((2,0))\n",
    "shape = []\n",
    "\n",
    "\n",
    "def on_mouse_down(x, y):\n",
    "    global drawing\n",
    "    global position\n",
    "    global shape\n",
    "    global points\n",
    "\n",
    "    drawing = True\n",
    "    position = (x, y)\n",
    "    shape = [position]\n",
    "\n",
    "\n",
    "def on_mouse_move(x, y):\n",
    "    global drawing\n",
    "    global position\n",
    "    global shape\n",
    "    global points\n",
    "\n",
    "    if not drawing:\n",
    "        return\n",
    "\n",
    "    with hold_canvas(canvas):\n",
    "        canvas.stroke_line(position[0], position[1], x, y)\n",
    "\n",
    "        position = (x, y)\n",
    "\n",
    "    shape.append(position)\n",
    "\n",
    "\n",
    "def on_mouse_up(x, y):\n",
    "    global drawing\n",
    "    global position\n",
    "    global shape\n",
    "    global points\n",
    "\n",
    "    drawing = False\n",
    "    \n",
    "    with hold_canvas(canvas):\n",
    "        canvas.stroke_line(position[0], position[1], x, y)\n",
    "    \n",
    "    points = np.append(points,shape)\n",
    "\n",
    "    shape = []\n",
    "\n",
    "\n",
    "canvas.on_mouse_down(on_mouse_down)\n",
    "canvas.on_mouse_move(on_mouse_move)\n",
    "canvas.on_mouse_up(on_mouse_up)\n",
    "\n",
    "canvas.stroke_style = '#000000'\n",
    "\n",
    "canvas.scale = 10\n",
    "canvas.layout.border_width = 3\n",
    "canvas.layout.border = 'solid'\n",
    "canvas.layout.border_color = '#000000'"
   ]
  },
  {
   "cell_type": "code",
   "execution_count": 12,
   "id": "d8710c3e",
   "metadata": {},
   "outputs": [
    {
     "data": {
      "application/vnd.jupyter.widget-view+json": {
       "model_id": "c6c65c9915c84e9a9efb76672386bb45",
       "version_major": 2,
       "version_minor": 0
      },
      "text/plain": [
       "Canvas(height=100, image_data=b'\\x89PNG\\r\\n\\x1a\\n\\x00\\x00\\x00\\rIHDR\\x00\\x00\\x00d\\x00\\x00\\x00d\\x08\\x06\\x00\\x00\\…"
      ]
     },
     "metadata": {},
     "output_type": "display_data"
    }
   ],
   "source": [
    "canvas"
   ]
  },
  {
   "cell_type": "code",
   "execution_count": 21,
   "id": "75b7c4a2",
   "metadata": {},
   "outputs": [
    {
     "name": "stdout",
     "output_type": "stream",
     "text": [
      "(1, 28, 28, 1)\n"
     ]
    }
   ],
   "source": [
    "# Get the image from the canvas\n",
    "stroke_img = canvas.get_image_data()\n",
    "stroke_img = np.sum(stroke_img, axis = 2)\n",
    "stroke_img=np.expand_dims(stroke_img,axis=-1)\n",
    "\n",
    "stroke_img = np.array(stroke_img, dtype = 'int32')\n",
    "stroke_img = image.resize(stroke_img, (28, 28)) / 255\n",
    "stroke_img=np.expand_dims(stroke_img,axis=0)\n",
    "print(stroke_img.shape)\n"
   ]
  },
  {
   "cell_type": "code",
   "execution_count": 22,
   "id": "8adbc5dd",
   "metadata": {},
   "outputs": [
    {
     "name": "stdout",
     "output_type": "stream",
     "text": [
      "[[6.301457e-10 1.000000e+00 7.405046e-10]]\n"
     ]
    }
   ],
   "source": [
    "print(model.predict(stroke_img))"
   ]
  },
  {
   "cell_type": "code",
   "execution_count": null,
   "id": "76fd1fba",
   "metadata": {},
   "outputs": [],
   "source": []
  }
 ],
 "metadata": {
  "kernelspec": {
   "display_name": "Python 3 (ipykernel)",
   "language": "python",
   "name": "python3"
  },
  "language_info": {
   "codemirror_mode": {
    "name": "ipython",
    "version": 3
   },
   "file_extension": ".py",
   "mimetype": "text/x-python",
   "name": "python",
   "nbconvert_exporter": "python",
   "pygments_lexer": "ipython3",
   "version": "3.9.6"
  }
 },
 "nbformat": 4,
 "nbformat_minor": 5
}
