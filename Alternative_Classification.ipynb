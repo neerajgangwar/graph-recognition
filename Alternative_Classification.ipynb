{
 "cells": [
  {
   "cell_type": "code",
   "execution_count": 1,
   "id": "47f6780a",
   "metadata": {},
   "outputs": [],
   "source": [
    "# Offline version of classification will not know the order of stroke points when classifying\n",
    "# Learn from MNIST database to identify strokes instead of determining with geometry-based features\n",
    "# Because there is no distinction between self-loops and vertices, we can ignore this entirely\n",
    "\n",
    "# The primary distinguishing factor between vertices and self-loops is their size\n",
    "# MNIST dataset does not distinguish between the size of 0's, so it must be handled manually afterward\n",
    "\n",
    "# Treat all 0 as true label of a vertex or loop\n",
    "# Treat all 1 as true label of a line\n",
    "# Treat all 7 as true label of an arrow\n",
    "# Ignore all other inputs\n",
    "\n",
    "# Ignore all other labels\n",
    "# Base network architecture referenced from https://arxiv.org/abs/2008.10400v2\n",
    "# Rather than implementing the voting scheme, we just take one CNN and train it"
   ]
  },
  {
   "cell_type": "code",
   "execution_count": 77,
   "id": "15c1edae",
   "metadata": {},
   "outputs": [],
   "source": [
    "import tensorflow as tf\n",
    "import numpy as np\n",
    "import keras\n",
    "from tensorflow import image\n",
    "from tensorflow.keras import layers\n",
    "from tensorflow.keras import optimizers\n",
    "from sklearn.metrics import accuracy_score\n",
    "import matplotlib.pyplot as plt\n"
   ]
  },
  {
   "cell_type": "code",
   "execution_count": 165,
   "id": "0b58845e",
   "metadata": {},
   "outputs": [
    {
     "data": {
      "text/plain": [
       "<matplotlib.image.AxesImage at 0x2424cfe2910>"
      ]
     },
     "execution_count": 165,
     "metadata": {},
     "output_type": "execute_result"
    },
    {
     "data": {
      "image/png": "[encoded data removed]",
      "text/plain": [
       "<Figure size 67.2x67.2 with 1 Axes>"
      ]
     },
     "metadata": {
      "needs_background": "light"
     },
     "output_type": "display_data"
    }
   ],
   "source": [
    "from tensorflow.keras.datasets import mnist\n",
    "\n",
    "(x_train, y_train), (x_test, y_test) = mnist.load_data()\n",
    "\n",
    "x_train, x_test = x_train.astype(\"float32\") / 255, x_test.astype(\"float32\") / 255\n",
    "\n",
    "# Remove all digits [3:6] and [8:9]\n",
    "\n",
    "indices_train = np.sort(np.append(np.nonzero(y_train < 2), np.nonzero(y_train == 7)))\n",
    "indices_test = np.sort(np.append(np.nonzero(y_test < 2), np.nonzero(y_test == 7)))\n",
    "\n",
    "x_train = x_train[indices_train]\n",
    "x_test = x_test[indices_test]\n",
    "y_train = y_train[indices_train]\n",
    "y_test = y_test[indices_test]\n",
    "\n",
    "y_train[y_train == 7] = 2\n",
    "y_test[y_test == 7] = 2\n",
    "\n",
    "fig = plt.figure(figsize=(x_train[0].shape[0] / 30, x_train[0].shape[1] / 30))\n",
    "plt.imshow(x_train[0], cmap='gray', aspect='equal')"
   ]
  },
  {
   "cell_type": "code",
   "execution_count": 87,
   "id": "ba564152",
   "metadata": {},
   "outputs": [
    {
     "name": "stdout",
     "output_type": "stream",
     "text": [
      "(3143, 28, 28, 1)\n"
     ]
    }
   ],
   "source": [
    "y_train=tf.keras.utils.to_categorical(y_train,3)\n",
    "y_test=tf.keras.utils.to_categorical(y_test,3)\n",
    "x_train=np.expand_dims(x_train,axis=-1)\n",
    "x_test=np.expand_dims(x_test,axis=-1)\n",
    "\n",
    "print(x_test.shape)\n"
   ]
  },
  {
   "cell_type": "code",
   "execution_count": 136,
   "id": "293b5741",
   "metadata": {},
   "outputs": [
    {
     "name": "stdout",
     "output_type": "stream",
     "text": [
      "Model: \"sequential_3\"\n",
      "_________________________________________________________________\n",
      " Layer (type)                Output Shape              Param #   \n",
      "=================================================================\n",
      " random_rotation_3 (RandomRo  (None, 28, 28, 1)        0         \n",
      " tation)                                                         \n",
      "                                                                 \n",
      " conv2d_6 (Conv2D)           (None, 24, 24, 64)        1664      \n",
      "                                                                 \n",
      " batch_normalization_6 (Batc  (None, 24, 24, 64)       256       \n",
      " hNormalization)                                                 \n",
      "                                                                 \n",
      " max_pooling2d_6 (MaxPooling  (None, 12, 12, 64)       0         \n",
      " 2D)                                                             \n",
      "                                                                 \n",
      " conv2d_7 (Conv2D)           (None, 8, 8, 128)         204928    \n",
      "                                                                 \n",
      " batch_normalization_7 (Batc  (None, 8, 8, 128)        512       \n",
      " hNormalization)                                                 \n",
      "                                                                 \n",
      " max_pooling2d_7 (MaxPooling  (None, 4, 4, 128)        0         \n",
      " 2D)                                                             \n",
      "                                                                 \n",
      " flatten_3 (Flatten)         (None, 2048)              0         \n",
      "                                                                 \n",
      " dense_3 (Dense)             (None, 3)                 6147      \n",
      "                                                                 \n",
      "=================================================================\n",
      "Total params: 213,507\n",
      "Trainable params: 213,123\n",
      "Non-trainable params: 384\n",
      "_________________________________________________________________\n"
     ]
    }
   ],
   "source": [
    "model = keras.Sequential(\n",
    "    [\n",
    "        keras.Input(shape=(28,28,1)),\n",
    "        layers.RandomRotation(1),\n",
    "        layers.Conv2D(64, kernel_size=(5, 5), activation=\"relu\"),\n",
    "        layers.BatchNormalization(),\n",
    "        layers.MaxPooling2D(pool_size=(2, 2)),\n",
    "        layers.Conv2D(128, kernel_size=(5, 5), activation=\"relu\"),\n",
    "        layers.BatchNormalization(),\n",
    "        layers.MaxPooling2D(pool_size=(2, 2)),\n",
    "        layers.Flatten(),\n",
    "        layers.Dense(3, activation=\"softmax\"),\n",
    "    ]\n",
    ")\n",
    "\n",
    "model.summary()"
   ]
  },
  {
   "cell_type": "code",
   "execution_count": 137,
   "id": "a3290e01",
   "metadata": {},
   "outputs": [
    {
     "name": "stdout",
     "output_type": "stream",
     "text": [
      "Epoch 1/5\n",
      "142/142 [==============================] - 21s 143ms/step - loss: 0.1161 - accuracy: 0.9647 - val_loss: 1.1041 - val_accuracy: 0.3555\n",
      "Epoch 2/5\n",
      "142/142 [==============================] - 19s 135ms/step - loss: 0.0467 - accuracy: 0.9850 - val_loss: 1.8570 - val_accuracy: 0.3111\n",
      "Epoch 3/5\n",
      "142/142 [==============================] - 20s 141ms/step - loss: 0.0454 - accuracy: 0.9863 - val_loss: 1.0939 - val_accuracy: 0.4643\n",
      "Epoch 4/5\n",
      "142/142 [==============================] - 20s 141ms/step - loss: 0.0370 - accuracy: 0.9886 - val_loss: 0.0251 - val_accuracy: 0.9921\n",
      "Epoch 5/5\n",
      "142/142 [==============================] - 20s 140ms/step - loss: 0.0345 - accuracy: 0.9896 - val_loss: 0.0191 - val_accuracy: 0.9926\n"
     ]
    },
    {
     "data": {
      "text/plain": [
       "<keras.callbacks.History at 0x2424d288280>"
      ]
     },
     "execution_count": 137,
     "metadata": {},
     "output_type": "execute_result"
    }
   ],
   "source": [
    "batch_size = 120\n",
    "epochs = 5\n",
    "\n",
    "model.compile(loss=\"categorical_crossentropy\", optimizer=\"adam\", metrics=[\"accuracy\"])\n",
    "\n",
    "model.fit(x_train, y_train, batch_size=batch_size, epochs=epochs, validation_split=0.1)"
   ]
  },
  {
   "cell_type": "code",
   "execution_count": 138,
   "id": "dd3a7f23",
   "metadata": {},
   "outputs": [
    {
     "name": "stdout",
     "output_type": "stream",
     "text": [
      "Test loss: 0.02581162005662918\n",
      "Test accuracy: 0.993318498134613\n"
     ]
    }
   ],
   "source": [
    "score = model.evaluate(x_test, y_test, verbose=0)\n",
    "print(\"Test loss:\", score[0])\n",
    "print(\"Test accuracy:\", score[1])"
   ]
  },
  {
   "cell_type": "code",
   "execution_count": 9,
   "id": "5be5f8f5",
   "metadata": {},
   "outputs": [],
   "source": [
    "from ipywidgets import Image\n",
    "from ipywidgets import ColorPicker, IntSlider, link, AppLayout, HBox\n",
    "from ipycanvas import RoughCanvas, Canvas, hold_canvas\n",
    "\n",
    "import numpy as np"
   ]
  },
  {
   "cell_type": "code",
   "execution_count": 10,
   "id": "c404ddc9",
   "metadata": {},
   "outputs": [],
   "source": [
    "width = 100\n",
    "height = 100"
   ]
  },
  {
   "cell_type": "code",
   "execution_count": 166,
   "id": "24f3f332",
   "metadata": {},
   "outputs": [],
   "source": [
    "#Set up canvas\n",
    "canvas = Canvas(width=width, height=height, sync_image_data=True)\n",
    "canvas.line_width = 8\n",
    "\n",
    "drawing = False\n",
    "position = None\n",
    "points = np.zeros((2,0))\n",
    "shape = []\n",
    "\n",
    "\n",
    "def on_mouse_down(x, y):\n",
    "    global drawing\n",
    "    global position\n",
    "    global shape\n",
    "    global points\n",
    "\n",
    "    drawing = True\n",
    "    position = (x, y)\n",
    "    shape = [position]\n",
    "\n",
    "\n",
    "def on_mouse_move(x, y):\n",
    "    global drawing\n",
    "    global position\n",
    "    global shape\n",
    "    global points\n",
    "\n",
    "    if not drawing:\n",
    "        return\n",
    "\n",
    "    with hold_canvas(canvas):\n",
    "        canvas.stroke_line(position[0], position[1], x, y)\n",
    "\n",
    "        position = (x, y)\n",
    "\n",
    "    shape.append(position)\n",
    "\n",
    "\n",
    "def on_mouse_up(x, y):\n",
    "    global drawing\n",
    "    global position\n",
    "    global shape\n",
    "    global points\n",
    "\n",
    "    drawing = False\n",
    "    \n",
    "    with hold_canvas(canvas):\n",
    "        canvas.stroke_line(position[0], position[1], x, y)\n",
    "    \n",
    "    points = np.append(points,shape)\n",
    "\n",
    "    shape = []\n",
    "\n",
    "\n",
    "canvas.on_mouse_down(on_mouse_down)\n",
    "canvas.on_mouse_move(on_mouse_move)\n",
    "canvas.on_mouse_up(on_mouse_up)\n",
    "\n",
    "canvas.stroke_style = '#000000'\n",
    "\n",
    "canvas.scale = 10\n",
    "canvas.layout.border_width = 3\n",
    "canvas.layout.border = 'solid'\n",
    "canvas.layout.border_color = '#000000'"
   ]
  },
  {
   "cell_type": "code",
   "execution_count": 179,
   "id": "d8710c3e",
   "metadata": {},
   "outputs": [
    {
     "data": {
      "application/vnd.jupyter.widget-view+json": {
       "model_id": "d3a65eb400864572941ee2546252fc0c",
       "version_major": 2,
       "version_minor": 0
      },
      "text/plain": [
       "Canvas(height=100, image_data=b'\\x89PNG\\r\\n\\x1a\\n\\x00\\x00\\x00\\rIHDR\\x00\\x00\\x00d\\x00\\x00\\x00d\\x08\\x06\\x00\\x00\\…"
      ]
     },
     "metadata": {},
     "output_type": "display_data"
    }
   ],
   "source": [
    "canvas"
   ]
  },
  {
   "cell_type": "code",
   "execution_count": 188,
   "id": "75b7c4a2",
   "metadata": {},
   "outputs": [
    {
     "name": "stdout",
     "output_type": "stream",
     "text": [
      "[[0. 0. 1.]]\n"
     ]
    },
    {
     "data": {
      "image/png": "[encoded data removed]",
      "text/plain": [
       "<Figure size 67.2x67.2 with 1 Axes>"
      ]
     },
     "metadata": {
      "needs_background": "light"
     },
     "output_type": "display_data"
    }
   ],
   "source": [
    "# Get the image from the canvas\n",
    "stroke_img = canvas.get_image_data()\n",
    "\n",
    "stroke_img = np.sum(stroke_img, axis = 2) / 3\n",
    "# Invert image data\n",
    "\n",
    "stroke_img=np.expand_dims(stroke_img,axis=-1)\n",
    "\n",
    "stroke_img = image.resize(stroke_img, (28, 28)) \n",
    "stroke_img = np.array(stroke_img, dtype = 'int32') \n",
    "#stroke_img = np.invert(stroke_img) + 1\n",
    "\n",
    "\n",
    "fig = plt.figure(figsize=(stroke_img.shape[0] / 30, stroke_img.shape[1] / 30))\n",
    "plt.imshow(stroke_img, cmap='gray', aspect='equal')\n",
    "\n",
    "stroke_img = np.expand_dims(stroke_img,axis=0)\n",
    "print(model.predict(stroke_img))"
   ]
  },
  {
   "cell_type": "code",
   "execution_count": 187,
   "id": "76fd1fba",
   "metadata": {},
   "outputs": [],
   "source": [
    "canvas.clear()"
   ]
  },
  {
   "cell_type": "code",
   "execution_count": null,
   "id": "400023c8",
   "metadata": {},
   "outputs": [],
   "source": []
  }
 ],
 "metadata": {
  "kernelspec": {
   "display_name": "Python 3 (ipykernel)",
   "language": "python",
   "name": "python3"
  },
  "language_info": {
   "codemirror_mode": {
    "name": "ipython",
    "version": 3
   },
   "file_extension": ".py",
   "mimetype": "text/x-python",
   "name": "python",
   "nbconvert_exporter": "python",
   "pygments_lexer": "ipython3",
   "version": "3.9.6"
  }
 },
 "nbformat": 4,
 "nbformat_minor": 5
}
