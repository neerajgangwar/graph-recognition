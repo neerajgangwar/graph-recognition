{
 "cells": [
  {
   "cell_type": "code",
   "execution_count": 1,
   "id": "fcfcc8a1",
   "metadata": {},
   "outputs": [],
   "source": [
    "from ipywidgets import Image\n",
    "from ipywidgets import ColorPicker, IntSlider, link, AppLayout, HBox\n",
    "from ipycanvas import RoughCanvas, hold_canvas\n",
    "\n",
    "from src import *"
   ]
  },
  {
   "cell_type": "code",
   "execution_count": 2,
   "id": "942531b3",
   "metadata": {},
   "outputs": [],
   "source": [
    "width = 1000\n",
    "height = 1000"
   ]
  },
  {
   "cell_type": "code",
   "execution_count": 12,
   "id": "bbb5ad47",
   "metadata": {},
   "outputs": [
    {
     "data": {
      "application/vnd.jupyter.widget-view+json": {
       "model_id": "6d102ecd9e8d45e49be60518373b5a34",
       "version_major": 2,
       "version_minor": 0
      },
      "text/plain": [
       "HBox(children=(RoughCanvas(height=1000, width=1000), ColorPicker(value='#749cb8', description='Color:')))"
      ]
     },
     "metadata": {},
     "output_type": "display_data"
    }
   ],
   "source": [
    "canvas = RoughCanvas(width=width, height=height)\n",
    "canvas.fill_style = \"#c6574f\"\n",
    "\n",
    "drawing = False\n",
    "position = None\n",
    "shape = []\n",
    "\n",
    "\n",
    "def on_mouse_down(x, y):\n",
    "    global drawing\n",
    "    global position\n",
    "    global shape\n",
    "\n",
    "    drawing = True\n",
    "    position = (x, y)\n",
    "    shape = [position]\n",
    "\n",
    "\n",
    "def on_mouse_move(x, y):\n",
    "    global drawing\n",
    "    global position\n",
    "    global shape\n",
    "\n",
    "    if not drawing:\n",
    "        return\n",
    "\n",
    "    with hold_canvas(canvas):\n",
    "        canvas.stroke_line(position[0], position[1], x, y)\n",
    "\n",
    "        position = (x, y)\n",
    "\n",
    "    shape.append(position)\n",
    "\n",
    "\n",
    "def on_mouse_up(x, y):\n",
    "    global drawing\n",
    "    global position\n",
    "    global shape\n",
    "\n",
    "    drawing = False\n",
    "    \n",
    "    with hold_canvas(canvas):\n",
    "        canvas.stroke_line(position[0], position[1], x, y)\n",
    "\n",
    "    seg_pts = findSegmenationPoints(shape)\n",
    "    for seg_pt in seg_pts:\n",
    "        canvas.fill_rect(x=seg_pt[0], y=seg_pt[1], width=10)\n",
    "    \n",
    "    shape = []\n",
    "\n",
    "\n",
    "canvas.on_mouse_down(on_mouse_down)\n",
    "canvas.on_mouse_move(on_mouse_move)\n",
    "canvas.on_mouse_up(on_mouse_up)\n",
    "\n",
    "canvas.stroke_style = '#749cb8'\n",
    "\n",
    "picker = ColorPicker(description='Color:', value='#749cb8')\n",
    "\n",
    "link((picker, 'value'), (canvas, 'stroke_style'))\n",
    "link((picker, 'value'), (canvas, 'fill_style'))\n",
    "\n",
    "HBox((canvas, picker))"
   ]
  },
  {
   "cell_type": "code",
   "execution_count": null,
   "id": "0d150979",
   "metadata": {},
   "outputs": [],
   "source": []
  }
 ],
 "metadata": {
  "kernelspec": {
   "display_name": "Python 3 (ipykernel)",
   "language": "python",
   "name": "python3"
  },
  "language_info": {
   "codemirror_mode": {
    "name": "ipython",
    "version": 3
   },
   "file_extension": ".py",
   "mimetype": "text/x-python",
   "name": "python",
   "nbconvert_exporter": "python",
   "pygments_lexer": "ipython3",
   "version": "3.8.11"
  }
 },
 "nbformat": 4,
 "nbformat_minor": 5
}
